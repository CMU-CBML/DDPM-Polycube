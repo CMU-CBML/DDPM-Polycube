{
 "cells": [
  {
   "cell_type": "code",
   "execution_count": 3,
   "id": "6932cb21",
   "metadata": {},
   "outputs": [],
   "source": [
    "import glob\n",
    "import imageio\n",
    "\n",
    "image_folder = '../pics/'\n",
    "images = [image_folder + str(i) + \".png\" for i in range(1,34)]\n",
    "\n",
    "images[0:0] = [images[0]]\n",
    "images[0:0] = [images[0]]\n",
    "\n",
    "image_list = []\n",
    "for image_path in images:\n",
    "    image = imageio.imread(image_path)\n",
    "    image_list.append(image)\n",
    "\n",
    "gif_image_path = '../pics/output.gif'\n",
    "imageio.mimsave(gif_image_path, image_list, duration=0.5)"
   ]
  },
  {
   "cell_type": "code",
   "execution_count": null,
   "id": "1cb1c720",
   "metadata": {},
   "outputs": [],
   "source": []
  }
 ],
 "metadata": {
  "kernelspec": {
   "display_name": "Python 3 (ipykernel)",
   "language": "python",
   "name": "python3"
  },
  "language_info": {
   "codemirror_mode": {
    "name": "ipython",
    "version": 3
   },
   "file_extension": ".py",
   "mimetype": "text/x-python",
   "name": "python",
   "nbconvert_exporter": "python",
   "pygments_lexer": "ipython3",
   "version": "3.9.12"
  }
 },
 "nbformat": 4,
 "nbformat_minor": 5
}
